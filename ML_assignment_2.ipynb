{
  "cells": [
    {
      "metadata": {
        "collapsed": true
      },
      "cell_type": "markdown",
      "source": "# 機械学習・データ分析(2019)  課題2\n\n### このnotebookには、いくつかの設問が記載されています。\n### 先頭から順番に、指示に従ってPython Codeをcellに記述してください。\n### codeを記述するcellは、各自適切に生成してください。\n\n## 課題提出方法\n### 各自のGitHubに、学籍番号_MD2（たとえば、C180001_MD2）という名称のrepositoryを作成してください。\n### このnotebookを各自のGitHubのリポジトリ（学籍番号_MD2)へコピーしてください。\n### このnotebookに記載されたcodeがデータファイルを参照している場合、そのデータファイルも必ずGitHubのRepositoryへコピーしてください。\n### 各自のGitHubのリポジトリをoffice 365のメールアカウントを使用して、sugimura@ccg.ac.jpへ送信してください。メールの件名は、学籍番号_MD2としてください。\n### 【重要】指定された方法で課題を提出することも課題に含まれています。\n"
    },
    {
      "metadata": {},
      "cell_type": "markdown",
      "source": "## 【設問1】\n### 次の2つの配列を縦（行方向）および横（列方向）に結合してください。\n#### モジュールNumpyを利用するので、numpyをimportしましょう。\n"
    },
    {
      "metadata": {
        "trusted": true
      },
      "cell_type": "code",
      "source": "import numpy as np\n\nsample_array1 = np.array([[1, 2, 3], [4, 5, 6]])\nsample_array2 = np.array([[7, 8, 9], [10, 11, 12]])\nprint(sample_array1)\nprint(sample_array2)",
      "execution_count": 1,
      "outputs": [
        {
          "output_type": "stream",
          "text": "[[1 2 3]\n [4 5 6]]\n[[ 7  8  9]\n [10 11 12]]\n",
          "name": "stdout"
        }
      ]
    },
    {
      "metadata": {
        "trusted": true
      },
      "cell_type": "code",
      "source": "# 縦に結合してください\n\nC = np.vstack([sample_array1,sample_array2])\nprint(C)",
      "execution_count": 2,
      "outputs": [
        {
          "output_type": "stream",
          "text": "[[ 1  2  3]\n [ 4  5  6]\n [ 7  8  9]\n [10 11 12]]\n",
          "name": "stdout"
        }
      ]
    },
    {
      "metadata": {
        "trusted": true
      },
      "cell_type": "code",
      "source": "# 横に結合してください\nC = np.hstack([sample_array1,sample_array2])\nprint(C)",
      "execution_count": 3,
      "outputs": [
        {
          "output_type": "stream",
          "text": "[[ 1  2  3  7  8  9]\n [ 4  5  6 10 11 12]]\n",
          "name": "stdout"
        }
      ]
    },
    {
      "metadata": {},
      "cell_type": "markdown",
      "source": "## 【設問2】\n\n### Numpyのユニバーサル関数は、すべての要素に同じ関数を適用する機能です。\n#### たとえば、上のsample_array1のすべての要素の平方根を求める演算は、次のように記述します。"
    },
    {
      "metadata": {
        "trusted": true
      },
      "cell_type": "code",
      "source": "np.sqrt(sample_array1)",
      "execution_count": 4,
      "outputs": [
        {
          "output_type": "execute_result",
          "execution_count": 4,
          "data": {
            "text/plain": "array([[1.        , 1.41421356, 1.73205081],\n       [2.        , 2.23606798, 2.44948974]])"
          },
          "metadata": {}
        }
      ]
    },
    {
      "metadata": {},
      "cell_type": "markdown",
      "source": "### Numpyのadd関数は要素の和を計算するユニバーサル関数です。\n#### sample_array1とsample_array2の各要素の和を計算するコードを記述してください。"
    },
    {
      "metadata": {},
      "cell_type": "markdown",
      "source": "## 【設問3】\n### Numpyのブロードキャストは、配列の大きさが異なっていても、自動的に要素をコピーして、演算の対象の大きさを揃える機能です。\n#### たとえば、以下の演算は、sample_array1のすべての要素に3を加えます。"
    },
    {
      "metadata": {
        "trusted": true
      },
      "cell_type": "code",
      "source": "sample_array1 + 3",
      "execution_count": 5,
      "outputs": [
        {
          "output_type": "execute_result",
          "execution_count": 5,
          "data": {
            "text/plain": "array([[4, 5, 6],\n       [7, 8, 9]])"
          },
          "metadata": {}
        }
      ]
    },
    {
      "metadata": {},
      "cell_type": "markdown",
      "source": "### 上の計算は、次の演算と同じです。"
    },
    {
      "metadata": {
        "trusted": true
      },
      "cell_type": "code",
      "source": "sample_array1 + np.array([[3, 3, 3], [3, 3, 3]])",
      "execution_count": 6,
      "outputs": [
        {
          "output_type": "execute_result",
          "execution_count": 6,
          "data": {
            "text/plain": "array([[4, 5, 6],\n       [7, 8, 9]])"
          },
          "metadata": {}
        }
      ]
    },
    {
      "metadata": {},
      "cell_type": "markdown",
      "source": "### sample_array1のすべての要素を10倍するコードを記述してください。"
    },
    {
      "metadata": {},
      "cell_type": "markdown",
      "source": "## 【準備】科学計算で用いられるScipyを使いましょう。\n### 補間計算\n#### xとして、linspaceを用いて、開始値0、終了値10、そして、項目が11個の等間隔数列を生成します。\n#### yの値をxのcos関数として生成します。\n#### x, yのグラフを描画します。\n#### データの間を線形補間して、グラフ上の点と点を結びます。"
    },
    {
      "metadata": {
        "trusted": true
      },
      "cell_type": "code",
      "source": "from matplotlib import pyplot as plt\n%matplotlib inline\n\nx = np.linspace(0, 10, num=11, endpoint=True)\ny = np.cos(-x**2/5.0)\nplt.plot(x, y, 'o')\nplt.grid(True)",
      "execution_count": 7,
      "outputs": [
        {
          "output_type": "display_data",
          "data": {
            "image/png": "[encoded data removed]",
            "text/plain": "<Figure size 432x288 with 1 Axes>"
          },
          "metadata": {
            "needs_background": "light"
          }
        }
      ]
    },
    {
      "metadata": {
        "trusted": true
      },
      "cell_type": "code",
      "source": "from scipy import interpolate\n# linear interpolation\nf = interpolate.interp1d(x, y, 'linear')\nplt.plot(x, f(x), '-')\nplt.grid(True)",
      "execution_count": 11,
      "outputs": [
        {
          "output_type": "display_data",
          "data": {
            "image/png": "[encoded data removed]",
            "text/plain": "<Figure size 432x288 with 1 Axes>"
          },
          "metadata": {
            "needs_background": "light"
          }
        }
      ]
    },
    {
      "metadata": {},
      "cell_type": "markdown",
      "source": "## 【設問4】\n### 以下のデータに対して、線形補間を行って、グラフを描画してください。"
    },
    {
      "metadata": {
        "trusted": true
      },
      "cell_type": "code",
      "source": "x = np.linspace(0, 10, num=11, endpoint=True)\ny = np.sin(x**2/5.0)\nplt.plot(x, y, '-')\nplt.grid(True)",
      "execution_count": 25,
      "outputs": [
        {
          "output_type": "display_data",
          "data": {
            "image/png": "[encoded data removed]",
            "text/plain": "<Figure size 432x288 with 1 Axes>"
          },
          "metadata": {
            "needs_background": "light"
          }
        }
      ]
    },
    {
      "metadata": {},
      "cell_type": "markdown",
      "source": "## 【準備】さまざまなデータを加工処理することができるPandasを使いましょう。\n### ライブラリのインポート"
    },
    {
      "metadata": {
        "trusted": true
      },
      "cell_type": "code",
      "source": "import pandas as pd\nfrom pandas import Series, DataFrame",
      "execution_count": 13,
      "outputs": []
    },
    {
      "metadata": {},
      "cell_type": "markdown",
      "source": "### Seriesは、1次元の配列のようなオブジェクトです。Pandasでは、Numpyのarrayをベースとしています。"
    },
    {
      "metadata": {
        "trusted": true
      },
      "cell_type": "code",
      "source": "sample_series = pd.Series([0, 10, 20, 30, 40, 50, 60, 70, 80, 90])\nsample_series",
      "execution_count": 14,
      "outputs": [
        {
          "output_type": "execute_result",
          "execution_count": 14,
          "data": {
            "text/plain": "0     0\n1    10\n2    20\n3    30\n4    40\n5    50\n6    60\n7    70\n8    80\n9    90\ndtype: int64"
          },
          "metadata": {}
        }
      ]
    },
    {
      "metadata": {},
      "cell_type": "markdown",
      "source": "### Seriesの要素は、インデックスと値からなります。dtypeは、データの型を表しています。\n### インデックス(index)は、要素を特定するためのkeyです。\n### Seriesのインデックスの値とデータの値は、index propertyとvalues propertyを使って指定することができます。"
    },
    {
      "metadata": {
        "trusted": true
      },
      "cell_type": "code",
      "source": "sample_index_data = pd.Series([0, 10, 20, 30, 40, 50, 60, 70, 80, 90],\n                             index=('a', 'b', 'c','d', 'e', 'f', 'g', 'h', 'i', 'j'))\nsample_index_data",
      "execution_count": 15,
      "outputs": [
        {
          "output_type": "execute_result",
          "execution_count": 15,
          "data": {
            "text/plain": "a     0\nb    10\nc    20\nd    30\ne    40\nf    50\ng    60\nh    70\ni    80\nj    90\ndtype: int64"
          },
          "metadata": {}
        }
      ]
    },
    {
      "metadata": {
        "trusted": true
      },
      "cell_type": "code",
      "source": "sample_index_data.values",
      "execution_count": 26,
      "outputs": [
        {
          "output_type": "execute_result",
          "execution_count": 26,
          "data": {
            "text/plain": "array([ 0, 10, 20, 30, 40, 50, 60, 70, 80, 90])"
          },
          "metadata": {}
        }
      ]
    },
    {
      "metadata": {
        "trusted": true
      },
      "cell_type": "code",
      "source": "sample_index_data.index",
      "execution_count": 27,
      "outputs": [
        {
          "output_type": "execute_result",
          "execution_count": 27,
          "data": {
            "text/plain": "Index(['a', 'b', 'c', 'd', 'e', 'f', 'g', 'h', 'i', 'j'], dtype='object')"
          },
          "metadata": {}
        }
      ]
    },
    {
      "metadata": {},
      "cell_type": "markdown",
      "source": "### DataFrameのオブジェクトは、2次元の配列です。列ごとに異なるデータの型を持つことができます。\n### ID、City、Birth_year、Nameという4つの属性(attribute)を持つDataFrameオブジェクトを生成します。属性は、表形式データの列(column)に相当します。"
    },
    {
      "metadata": {
        "trusted": true
      },
      "cell_type": "code",
      "source": "attr1 = {'ID':['100', '102', '104', '106', '108'],\n                         \n         'City':['Tokyo', 'Osaka', 'Kyoto', 'Hokkaido', 'Tokyo'],\n         'Birth_year':[1990, 1989, 1992, 1997, 1982],\n         'Name':['Hiroshi', 'Akiko', 'Yuki', 'Satoru', 'Steeve']}\nattr1_dataframe1 = DataFrame(attr1)\nattr1_dataframe1.index=['a','b','c','d','e']\nattr1_dataframe1         ",
      "execution_count": 46,
      "outputs": [
        {
          "output_type": "execute_result",
          "execution_count": 46,
          "data": {
            "text/html": "<div>\n<style scoped>\n    .dataframe tbody tr th:only-of-type {\n        vertical-align: middle;\n    }\n\n    .dataframe tbody tr th {\n        vertical-align: top;\n    }\n\n    .dataframe thead th {\n        text-align: right;\n    }\n</style>\n<table border=\"1\" class=\"dataframe\">\n  <thead>\n    <tr style=\"text-align: right;\">\n      <th></th>\n      <th>ID</th>\n      <th>City</th>\n      <th>Birth_year</th>\n      <th>Name</th>\n    </tr>\n  </thead>\n  <tbody>\n    <tr>\n      <th>a</th>\n      <td>100</td>\n      <td>Tokyo</td>\n      <td>1990</td>\n      <td>Hiroshi</td>\n    </tr>\n    <tr>\n      <th>b</th>\n      <td>102</td>\n      <td>Osaka</td>\n      <td>1989</td>\n      <td>Akiko</td>\n    </tr>\n    <tr>\n      <th>c</th>\n      <td>104</td>\n      <td>Kyoto</td>\n      <td>1992</td>\n      <td>Yuki</td>\n    </tr>\n    <tr>\n      <th>d</th>\n      <td>106</td>\n      <td>Hokkaido</td>\n      <td>1997</td>\n      <td>Satoru</td>\n    </tr>\n    <tr>\n      <th>e</th>\n      <td>108</td>\n      <td>Tokyo</td>\n      <td>1982</td>\n      <td>Steeve</td>\n    </tr>\n  </tbody>\n</table>\n</div>",
            "text/plain": "    ID      City  Birth_year     Name\na  100     Tokyo        1990  Hiroshi\nb  102     Osaka        1989    Akiko\nc  104     Kyoto        1992     Yuki\nd  106  Hokkaido        1997   Satoru\ne  108     Tokyo        1982   Steeve"
          },
          "metadata": {}
        }
      ]
    },
    {
      "metadata": {},
      "cell_type": "markdown",
      "source": "## 【設問5】\n### Series型データにインデックスとして文字列'a', 'b'.....を指定したように、attr1の値に対して、新しいインデックスを指定したDataFrame型オブジェクトを作成してください。インデックスは、順番に'a', 'b', 'c', 'd', 'e'としてください。"
    },
    {
      "metadata": {},
      "cell_type": "markdown",
      "source": "## DataFrame型データに対する演算\n\n### DataFrame型データの行と列を入れ替えるTメソッド"
    },
    {
      "metadata": {
        "trusted": true
      },
      "cell_type": "code",
      "source": "attr1_dataframe1.T",
      "execution_count": 20,
      "outputs": [
        {
          "output_type": "execute_result",
          "execution_count": 20,
          "data": {
            "text/html": "<div>\n<style scoped>\n    .dataframe tbody tr th:only-of-type {\n        vertical-align: middle;\n    }\n\n    .dataframe tbody tr th {\n        vertical-align: top;\n    }\n\n    .dataframe thead th {\n        text-align: right;\n    }\n</style>\n<table border=\"1\" class=\"dataframe\">\n  <thead>\n    <tr style=\"text-align: right;\">\n      <th></th>\n      <th>0</th>\n      <th>1</th>\n      <th>2</th>\n      <th>3</th>\n      <th>4</th>\n    </tr>\n  </thead>\n  <tbody>\n    <tr>\n      <th>ID</th>\n      <td>100</td>\n      <td>102</td>\n      <td>104</td>\n      <td>106</td>\n      <td>108</td>\n    </tr>\n    <tr>\n      <th>City</th>\n      <td>Tokyo</td>\n      <td>Osaka</td>\n      <td>Kyoto</td>\n      <td>Hokkaido</td>\n      <td>Tokyo</td>\n    </tr>\n    <tr>\n      <th>Birth_year</th>\n      <td>1990</td>\n      <td>1989</td>\n      <td>1992</td>\n      <td>1997</td>\n      <td>1982</td>\n    </tr>\n    <tr>\n      <th>Name</th>\n      <td>Hiroshi</td>\n      <td>Akiko</td>\n      <td>Yuki</td>\n      <td>Satoru</td>\n      <td>Steeve</td>\n    </tr>\n  </tbody>\n</table>\n</div>",
            "text/plain": "                  0      1      2         3       4\nID              100    102    104       106     108\nCity          Tokyo  Osaka  Kyoto  Hokkaido   Tokyo\nBirth_year     1990   1989   1992      1997    1982\nName        Hiroshi  Akiko   Yuki    Satoru  Steeve"
          },
          "metadata": {}
        }
      ]
    },
    {
      "metadata": {},
      "cell_type": "markdown",
      "source": "### DataFrame型データの特定列を取り出す"
    },
    {
      "metadata": {
        "trusted": true
      },
      "cell_type": "code",
      "source": "attr1_dataframe1.Birth_year",
      "execution_count": 50,
      "outputs": [
        {
          "output_type": "execute_result",
          "execution_count": 50,
          "data": {
            "text/plain": "a    1990\nb    1989\nc    1992\nd    1997\ne    1982\nName: Birth_year, dtype: int64"
          },
          "metadata": {}
        }
      ]
    },
    {
      "metadata": {},
      "cell_type": "markdown",
      "source": "### DataFrame型データの複数列を取り出す"
    },
    {
      "metadata": {
        "trusted": true
      },
      "cell_type": "code",
      "source": "attr1_dataframe1[['City', 'Name']]",
      "execution_count": 49,
      "outputs": [
        {
          "output_type": "execute_result",
          "execution_count": 49,
          "data": {
            "text/html": "<div>\n<style scoped>\n    .dataframe tbody tr th:only-of-type {\n        vertical-align: middle;\n    }\n\n    .dataframe tbody tr th {\n        vertical-align: top;\n    }\n\n    .dataframe thead th {\n        text-align: right;\n    }\n</style>\n<table border=\"1\" class=\"dataframe\">\n  <thead>\n    <tr style=\"text-align: right;\">\n      <th></th>\n      <th>City</th>\n      <th>Name</th>\n    </tr>\n  </thead>\n  <tbody>\n    <tr>\n      <th>a</th>\n      <td>Tokyo</td>\n      <td>Hiroshi</td>\n    </tr>\n    <tr>\n      <th>b</th>\n      <td>Osaka</td>\n      <td>Akiko</td>\n    </tr>\n    <tr>\n      <th>c</th>\n      <td>Kyoto</td>\n      <td>Yuki</td>\n    </tr>\n    <tr>\n      <th>d</th>\n      <td>Hokkaido</td>\n      <td>Satoru</td>\n    </tr>\n    <tr>\n      <th>e</th>\n      <td>Tokyo</td>\n      <td>Steeve</td>\n    </tr>\n  </tbody>\n</table>\n</div>",
            "text/plain": "       City     Name\na     Tokyo  Hiroshi\nb     Osaka    Akiko\nc     Kyoto     Yuki\nd  Hokkaido   Satoru\ne     Tokyo   Steeve"
          },
          "metadata": {}
        }
      ]
    },
    {
      "metadata": {},
      "cell_type": "markdown",
      "source": "### DataFrameオブジェクトから特定の条件を満たすデータを取り出す\n#### CityがTokyoであるデータを抽出しよう。"
    },
    {
      "metadata": {
        "trusted": true
      },
      "cell_type": "code",
      "source": "attr1_dataframe1[attr1_dataframe1['City']=='Tokyo']",
      "execution_count": 47,
      "outputs": [
        {
          "output_type": "execute_result",
          "execution_count": 47,
          "data": {
            "text/html": "<div>\n<style scoped>\n    .dataframe tbody tr th:only-of-type {\n        vertical-align: middle;\n    }\n\n    .dataframe tbody tr th {\n        vertical-align: top;\n    }\n\n    .dataframe thead th {\n        text-align: right;\n    }\n</style>\n<table border=\"1\" class=\"dataframe\">\n  <thead>\n    <tr style=\"text-align: right;\">\n      <th></th>\n      <th>ID</th>\n      <th>City</th>\n      <th>Birth_year</th>\n      <th>Name</th>\n    </tr>\n  </thead>\n  <tbody>\n    <tr>\n      <th>a</th>\n      <td>100</td>\n      <td>Tokyo</td>\n      <td>1990</td>\n      <td>Hiroshi</td>\n    </tr>\n    <tr>\n      <th>e</th>\n      <td>108</td>\n      <td>Tokyo</td>\n      <td>1982</td>\n      <td>Steeve</td>\n    </tr>\n  </tbody>\n</table>\n</div>",
            "text/plain": "    ID   City  Birth_year     Name\na  100  Tokyo        1990  Hiroshi\ne  108  Tokyo        1982   Steeve"
          },
          "metadata": {}
        }
      ]
    },
    {
      "metadata": {},
      "cell_type": "markdown",
      "source": "### CityがTokyoまたはOsakaであるデータを抽出するには、isin(リスト）を使います。"
    },
    {
      "metadata": {
        "trusted": true
      },
      "cell_type": "code",
      "source": "attr1_dataframe1[attr1_dataframe1['City'].isin(['Tokyo', 'Osaka'])]",
      "execution_count": 48,
      "outputs": [
        {
          "output_type": "execute_result",
          "execution_count": 48,
          "data": {
            "text/html": "<div>\n<style scoped>\n    .dataframe tbody tr th:only-of-type {\n        vertical-align: middle;\n    }\n\n    .dataframe tbody tr th {\n        vertical-align: top;\n    }\n\n    .dataframe thead th {\n        text-align: right;\n    }\n</style>\n<table border=\"1\" class=\"dataframe\">\n  <thead>\n    <tr style=\"text-align: right;\">\n      <th></th>\n      <th>ID</th>\n      <th>City</th>\n      <th>Birth_year</th>\n      <th>Name</th>\n    </tr>\n  </thead>\n  <tbody>\n    <tr>\n      <th>a</th>\n      <td>100</td>\n      <td>Tokyo</td>\n      <td>1990</td>\n      <td>Hiroshi</td>\n    </tr>\n    <tr>\n      <th>b</th>\n      <td>102</td>\n      <td>Osaka</td>\n      <td>1989</td>\n      <td>Akiko</td>\n    </tr>\n    <tr>\n      <th>e</th>\n      <td>108</td>\n      <td>Tokyo</td>\n      <td>1982</td>\n      <td>Steeve</td>\n    </tr>\n  </tbody>\n</table>\n</div>",
            "text/plain": "    ID   City  Birth_year     Name\na  100  Tokyo        1990  Hiroshi\nb  102  Osaka        1989    Akiko\ne  108  Tokyo        1982   Steeve"
          },
          "metadata": {}
        }
      ]
    },
    {
      "metadata": {},
      "cell_type": "markdown",
      "source": "## 【設問6】\n### DataFrameオブジェクトattr1_dataframeから、Birty_yearが1990未満であるデータを取り出してください。"
    },
    {
      "metadata": {
        "trusted": true
      },
      "cell_type": "code",
      "source": "attr1_dataframe1[attr1_dataframe1.Birth_year<1990]",
      "execution_count": 51,
      "outputs": [
        {
          "output_type": "execute_result",
          "execution_count": 51,
          "data": {
            "text/html": "<div>\n<style scoped>\n    .dataframe tbody tr th:only-of-type {\n        vertical-align: middle;\n    }\n\n    .dataframe tbody tr th {\n        vertical-align: top;\n    }\n\n    .dataframe thead th {\n        text-align: right;\n    }\n</style>\n<table border=\"1\" class=\"dataframe\">\n  <thead>\n    <tr style=\"text-align: right;\">\n      <th></th>\n      <th>ID</th>\n      <th>City</th>\n      <th>Birth_year</th>\n      <th>Name</th>\n    </tr>\n  </thead>\n  <tbody>\n    <tr>\n      <th>b</th>\n      <td>102</td>\n      <td>Osaka</td>\n      <td>1989</td>\n      <td>Akiko</td>\n    </tr>\n    <tr>\n      <th>e</th>\n      <td>108</td>\n      <td>Tokyo</td>\n      <td>1982</td>\n      <td>Steeve</td>\n    </tr>\n  </tbody>\n</table>\n</div>",
            "text/plain": "    ID   City  Birth_year    Name\nb  102  Osaka        1989   Akiko\ne  108  Tokyo        1982  Steeve"
          },
          "metadata": {}
        }
      ]
    },
    {
      "metadata": {},
      "cell_type": "markdown",
      "source": "## 【設問7】\n### titanic.csvをDataFrame型データdf_titanic1に読み込んで下さい。\n"
    },
    {
      "metadata": {
        "trusted": true
      },
      "cell_type": "code",
      "source": "import pandas as pd\ndf_titanic1 = pd.read_csv(\"titanic.csv\")\nprint(df_titanic1)",
      "execution_count": 37,
      "outputs": [
        {
          "output_type": "stream",
          "text": "     Unnamed: 0  PassengerId  Survived  Pclass  \\\n0             0            1         0       3   \n1             1            2         1       1   \n2             2            3         1       3   \n3             3            4         1       1   \n4             4            5         0       3   \n5             5            6         0       3   \n6             6            7         0       1   \n7             7            8         0       3   \n8             8            9         1       3   \n9             9           10         1       2   \n10           10           11         1       3   \n11           11           12         1       1   \n12           12           13         0       3   \n13           13           14         0       3   \n14           14           15         0       3   \n15           15           16         1       2   \n16           16           17         0       3   \n17           17           18         1       2   \n18           18           19         0       3   \n19           19           20         1       3   \n20           20           21         0       2   \n21           21           22         1       2   \n22           22           23         1       3   \n23           23           24         1       1   \n24           24           25         0       3   \n25           25           26         1       3   \n26           26           27         0       3   \n27           27           28         0       1   \n28           28           29         1       3   \n29           29           30         0       3   \n..          ...          ...       ...     ...   \n861         861          862         0       2   \n862         862          863         1       1   \n863         863          864         0       3   \n864         864          865         0       2   \n865         865          866         1       2   \n866         866          867         1       2   \n867         867          868         0       1   \n868         868          869         0       3   \n869         869          870         1       3   \n870         870          871         0       3   \n871         871          872         1       1   \n872         872          873         0       1   \n873         873          874         0       3   \n874         874          875         1       2   \n875         875          876         1       3   \n876         876          877         0       3   \n877         877          878         0       3   \n878         878          879         0       3   \n879         879          880         1       1   \n880         880          881         1       2   \n881         881          882         0       3   \n882         882          883         0       3   \n883         883          884         0       2   \n884         884          885         0       3   \n885         885          886         0       3   \n886         886          887         0       2   \n887         887          888         1       1   \n888         888          889         0       3   \n889         889          890         1       1   \n890         890          891         0       3   \n\n                                                  Name     Sex   Age  SibSp  \\\n0                              Braund, Mr. Owen Harris    male  22.0      1   \n1    Cumings, Mrs. John Bradley (Florence Briggs Th...  female  38.0      1   \n2                               Heikkinen, Miss. Laina  female  26.0      0   \n3         Futrelle, Mrs. Jacques Heath (Lily May Peel)  female  35.0      1   \n4                             Allen, Mr. William Henry    male  35.0      0   \n5                                     Moran, Mr. James    male  28.0      0   \n6                              McCarthy, Mr. Timothy J    male  54.0      0   \n7                       Palsson, Master. Gosta Leonard    male   2.0      3   \n8    Johnson, Mrs. Oscar W (Elisabeth Vilhelmina Berg)  female  27.0      0   \n9                  Nasser, Mrs. Nicholas (Adele Achem)  female  14.0      1   \n10                     Sandstrom, Miss. Marguerite Rut  female   4.0      1   \n11                            Bonnell, Miss. Elizabeth  female  58.0      0   \n12                      Saundercock, Mr. William Henry    male  20.0      0   \n13                         Andersson, Mr. Anders Johan    male  39.0      1   \n14                Vestrom, Miss. Hulda Amanda Adolfina  female  14.0      0   \n15                    Hewlett, Mrs. (Mary D Kingcome)   female  55.0      0   \n16                                Rice, Master. Eugene    male   2.0      4   \n17                        Williams, Mr. Charles Eugene    male  28.0      0   \n18   Vander Planke, Mrs. Julius (Emelia Maria Vande...  female  31.0      1   \n19                             Masselmani, Mrs. Fatima  female  28.0      0   \n20                                Fynney, Mr. Joseph J    male  35.0      0   \n21                               Beesley, Mr. Lawrence    male  34.0      0   \n22                         McGowan, Miss. Anna \"Annie\"  female  15.0      0   \n23                        Sloper, Mr. William Thompson    male  28.0      0   \n24                       Palsson, Miss. Torborg Danira  female   8.0      3   \n25   Asplund, Mrs. Carl Oscar (Selma Augusta Emilia...  female  38.0      1   \n26                             Emir, Mr. Farred Chehab    male  28.0      0   \n27                      Fortune, Mr. Charles Alexander    male  19.0      3   \n28                       O'Dwyer, Miss. Ellen \"Nellie\"  female  28.0      0   \n29                                 Todoroff, Mr. Lalio    male  28.0      0   \n..                                                 ...     ...   ...    ...   \n861                        Giles, Mr. Frederick Edward    male  21.0      1   \n862  Swift, Mrs. Frederick Joel (Margaret Welles Ba...  female  48.0      0   \n863                  Sage, Miss. Dorothy Edith \"Dolly\"  female  28.0      8   \n864                             Gill, Mr. John William    male  24.0      0   \n865                           Bystrom, Mrs. (Karolina)  female  42.0      0   \n866                       Duran y More, Miss. Asuncion  female  27.0      1   \n867               Roebling, Mr. Washington Augustus II    male  31.0      0   \n868                        van Melkebeke, Mr. Philemon    male  28.0      0   \n869                    Johnson, Master. Harold Theodor    male   4.0      1   \n870                                  Balkic, Mr. Cerin    male  26.0      0   \n871   Beckwith, Mrs. Richard Leonard (Sallie Monypeny)  female  47.0      1   \n872                           Carlsson, Mr. Frans Olof    male  33.0      0   \n873                        Vander Cruyssen, Mr. Victor    male  47.0      0   \n874              Abelson, Mrs. Samuel (Hannah Wizosky)  female  28.0      1   \n875                   Najib, Miss. Adele Kiamie \"Jane\"  female  15.0      0   \n876                      Gustafsson, Mr. Alfred Ossian    male  20.0      0   \n877                               Petroff, Mr. Nedelio    male  19.0      0   \n878                                 Laleff, Mr. Kristo    male  28.0      0   \n879      Potter, Mrs. Thomas Jr (Lily Alexenia Wilson)  female  56.0      0   \n880       Shelley, Mrs. William (Imanita Parrish Hall)  female  25.0      0   \n881                                 Markun, Mr. Johann    male  33.0      0   \n882                       Dahlberg, Miss. Gerda Ulrika  female  22.0      0   \n883                      Banfield, Mr. Frederick James    male  28.0      0   \n884                             Sutehall, Mr. Henry Jr    male  25.0      0   \n885               Rice, Mrs. William (Margaret Norton)  female  39.0      0   \n886                              Montvila, Rev. Juozas    male  27.0      0   \n887                       Graham, Miss. Margaret Edith  female  19.0      0   \n888           Johnston, Miss. Catherine Helen \"Carrie\"  female  28.0      1   \n889                              Behr, Mr. Karl Howell    male  26.0      0   \n890                                Dooley, Mr. Patrick    male  32.0      0   \n\n     Parch            Ticket      Fare        Cabin Embarked  \n0        0         A/5 21171    7.2500          NaN        S  \n1        0          PC 17599   71.2833          C85        C  \n2        0  STON/O2. 3101282    7.9250          NaN        S  \n3        0            113803   53.1000         C123        S  \n4        0            373450    8.0500          NaN        S  \n5        0            330877    8.4583          NaN        Q  \n6        0             17463   51.8625          E46        S  \n7        1            349909   21.0750          NaN        S  \n8        2            347742   11.1333          NaN        S  \n9        0            237736   30.0708          NaN        C  \n10       1           PP 9549   16.7000           G6        S  \n11       0            113783   26.5500         C103        S  \n12       0         A/5. 2151    8.0500          NaN        S  \n13       5            347082   31.2750          NaN        S  \n14       0            350406    7.8542          NaN        S  \n15       0            248706   16.0000          NaN        S  \n16       1            382652   29.1250          NaN        Q  \n17       0            244373   13.0000          NaN        S  \n18       0            345763   18.0000          NaN        S  \n19       0              2649    7.2250          NaN        C  \n20       0            239865   26.0000          NaN        S  \n21       0            248698   13.0000          D56        S  \n22       0            330923    8.0292          NaN        Q  \n23       0            113788   35.5000           A6        S  \n24       1            349909   21.0750          NaN        S  \n25       5            347077   31.3875          NaN        S  \n26       0              2631    7.2250          NaN        C  \n27       2             19950  263.0000  C23 C25 C27        S  \n28       0            330959    7.8792          NaN        Q  \n29       0            349216    7.8958          NaN        S  \n..     ...               ...       ...          ...      ...  \n861      0             28134   11.5000          NaN        S  \n862      0             17466   25.9292          D17        S  \n863      2          CA. 2343   69.5500          NaN        S  \n864      0            233866   13.0000          NaN        S  \n865      0            236852   13.0000          NaN        S  \n866      0     SC/PARIS 2149   13.8583          NaN        C  \n867      0          PC 17590   50.4958          A24        S  \n868      0            345777    9.5000          NaN        S  \n869      1            347742   11.1333          NaN        S  \n870      0            349248    7.8958          NaN        S  \n871      1             11751   52.5542          D35        S  \n872      0               695    5.0000  B51 B53 B55        S  \n873      0            345765    9.0000          NaN        S  \n874      0         P/PP 3381   24.0000          NaN        C  \n875      0              2667    7.2250          NaN        C  \n876      0              7534    9.8458          NaN        S  \n877      0            349212    7.8958          NaN        S  \n878      0            349217    7.8958          NaN        S  \n879      1             11767   83.1583          C50        C  \n880      1            230433   26.0000          NaN        S  \n881      0            349257    7.8958          NaN        S  \n882      0              7552   10.5167          NaN        S  \n883      0  C.A./SOTON 34068   10.5000          NaN        S  \n884      0   SOTON/OQ 392076    7.0500          NaN        S  \n885      5            382652   29.1250          NaN        Q  \n886      0            211536   13.0000          NaN        S  \n887      0            112053   30.0000          B42        S  \n888      2        W./C. 6607   23.4500          NaN        S  \n889      0            111369   30.0000         C148        C  \n890      0            370376    7.7500          NaN        Q  \n\n[891 rows x 13 columns]\n",
          "name": "stdout"
        }
      ]
    },
    {
      "metadata": {},
      "cell_type": "markdown",
      "source": "### DataFrameオブジェクトは、データを集計することができます。\n### さらに、groupbyメソッドを使うと、ある特定の列を軸として集計することもできます。\n\n## 【設問8】\n### Sexを軸としてAgeの平均を求めてください。"
    },
    {
      "metadata": {
        "trusted": true
      },
      "cell_type": "code",
      "source": "df_titanic1.groupby('Sex').agg({'Age':'mean'})",
      "execution_count": 54,
      "outputs": [
        {
          "output_type": "execute_result",
          "execution_count": 54,
          "data": {
            "text/html": "<div>\n<style scoped>\n    .dataframe tbody tr th:only-of-type {\n        vertical-align: middle;\n    }\n\n    .dataframe tbody tr th {\n        vertical-align: top;\n    }\n\n    .dataframe thead th {\n        text-align: right;\n    }\n</style>\n<table border=\"1\" class=\"dataframe\">\n  <thead>\n    <tr style=\"text-align: right;\">\n      <th></th>\n      <th>Age</th>\n    </tr>\n    <tr>\n      <th>Sex</th>\n      <th></th>\n    </tr>\n  </thead>\n  <tbody>\n    <tr>\n      <th>female</th>\n      <td>27.929936</td>\n    </tr>\n    <tr>\n      <th>male</th>\n      <td>30.140676</td>\n    </tr>\n  </tbody>\n</table>\n</div>",
            "text/plain": "              Age\nSex              \nfemale  27.929936\nmale    30.140676"
          },
          "metadata": {}
        }
      ]
    },
    {
      "metadata": {},
      "cell_type": "markdown",
      "source": "### SeriesオブジェクトやDataFrameオブジェクトは、要素の値やインデックスを使ってソートすることができます。\n### インデックスでソートするとは、インデックスが昇順または降順となっていないときに、インデックスの昇順または降順に並べ替えることです。\n### 次のコードは、df_titanic1を年齢Ageの昇順に並べ替えます。"
    },
    {
      "metadata": {
        "trusted": true
      },
      "cell_type": "code",
      "source": "df_titanic1.Age.sort_values()",
      "execution_count": 55,
      "outputs": [
        {
          "output_type": "execute_result",
          "execution_count": 55,
          "data": {
            "text/plain": "803     0.42\n755     0.67\n644     0.75\n469     0.75\n831     0.83\n78      0.83\n305     0.92\n164     1.00\n827     1.00\n172     1.00\n386     1.00\n381     1.00\n183     1.00\n788     1.00\n824     2.00\n479     2.00\n16      2.00\n340     2.00\n297     2.00\n7       2.00\n119     2.00\n205     2.00\n642     2.00\n530     2.00\n193     3.00\n348     3.00\n43      3.00\n374     3.00\n261     3.00\n407     3.00\n       ...  \n487    58.00\n268    58.00\n232    59.00\n94     59.00\n366    60.00\n694    60.00\n587    60.00\n684    60.00\n326    61.00\n170    61.00\n625    61.00\n829    62.00\n570    62.00\n555    62.00\n252    62.00\n483    63.00\n275    63.00\n438    64.00\n545    64.00\n280    65.00\n456    65.00\n54     65.00\n33     66.00\n672    70.00\n745    70.00\n116    70.50\n96     71.00\n493    71.00\n851    74.00\n630    80.00\nName: Age, Length: 891, dtype: float64"
          },
          "metadata": {}
        }
      ]
    },
    {
      "metadata": {
        "trusted": true
      },
      "cell_type": "code",
      "source": "df_titanic1.Fare.sort_values()",
      "execution_count": 56,
      "outputs": [
        {
          "output_type": "execute_result",
          "execution_count": 56,
          "data": {
            "text/plain": "271      0.0000\n597      0.0000\n302      0.0000\n633      0.0000\n277      0.0000\n413      0.0000\n674      0.0000\n263      0.0000\n466      0.0000\n732      0.0000\n179      0.0000\n806      0.0000\n481      0.0000\n822      0.0000\n815      0.0000\n378      4.0125\n872      5.0000\n326      6.2375\n843      6.4375\n818      6.4500\n371      6.4958\n202      6.4958\n654      6.7500\n143      6.7500\n411      6.8583\n825      6.9500\n129      6.9750\n804      6.9750\n477      7.0458\n611      7.0500\n         ...   \n31     146.5208\n708    151.5500\n498    151.5500\n305    151.5500\n297    151.5500\n609    153.4625\n332    153.4625\n268    153.4625\n856    164.8667\n318    164.8667\n779    211.3375\n730    211.3375\n689    211.3375\n377    211.5000\n527    221.7792\n700    227.5250\n380    227.5250\n557    227.5250\n716    227.5250\n118    247.5208\n299    247.5208\n742    262.3750\n311    262.3750\n27     263.0000\n88     263.0000\n438    263.0000\n341    263.0000\n737    512.3292\n258    512.3292\n679    512.3292\nName: Fare, Length: 891, dtype: float64"
          },
          "metadata": {}
        }
      ]
    },
    {
      "metadata": {},
      "cell_type": "markdown",
      "source": "## 【設問9】\n### DataFrameオブジェクトdf_titanic1においてクラス(Pclass)ごとの生存率を計算して、パーセントで表示してください。"
    },
    {
      "metadata": {
        "trusted": true
      },
      "cell_type": "code",
      "source": "df_titanic1",
      "execution_count": null,
      "outputs": []
    }
  ],
  "metadata": {
    "kernelspec": {
      "name": "python36",
      "display_name": "Python 3.6",
      "language": "python"
    },
    "language_info": {
      "mimetype": "text/x-python",
      "nbconvert_exporter": "python",
      "name": "python",
      "pygments_lexer": "ipython3",
      "version": "3.6.6",
      "file_extension": ".py",
      "codemirror_mode": {
        "version": 3,
        "name": "ipython"
      }
    }
  },
  "nbformat": 4,
  "nbformat_minor": 2
}